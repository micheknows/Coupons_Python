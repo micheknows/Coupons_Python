{
  "nbformat": 4,
  "nbformat_minor": 0,
  "metadata": {
    "colab": {
      "provenance": [],
      "authorship_tag": "ABX9TyOyKBl3SVTGBhBwDrs7nrjE",
      "include_colab_link": true
    },
    "kernelspec": {
      "name": "python3",
      "display_name": "Python 3"
    },
    "language_info": {
      "name": "python"
    }
  },
  "cells": [
    {
      "cell_type": "markdown",
      "metadata": {
        "id": "view-in-github",
        "colab_type": "text"
      },
      "source": [
        "<a href=\"https://colab.research.google.com/github/micheknows/Coupons_Python/blob/main/Coupons.ipynb\" target=\"_parent\"><img src=\"https://colab.research.google.com/assets/colab-badge.svg\" alt=\"Open In Colab\"/></a>"
      ]
    },
    {
      "cell_type": "markdown",
      "source": [
        "Retrieve data from the API \n"
      ],
      "metadata": {
        "id": "3JL2KfMNcmnp"
      }
    },
    {
      "cell_type": "code",
      "execution_count": 45,
      "metadata": {
        "id": "rT0PFw9iZcwp"
      },
      "outputs": [],
      "source": [
        "# Get the data from Spoonacular\n",
        "\n",
        "import pandas as pd\n",
        "import requests\n",
        "\n",
        "\n",
        "url = \"https://api.spoonacular.com/recipes/random?number=100&limitLicense=true&apiKey=5d979222ba32497c9b0eb6f964db59e9\"\n",
        "\n",
        "\n",
        "# Check if the dataframe already exists\n",
        "try:\n",
        "    df = pd.read_csv('data.csv')\n",
        "except FileNotFoundError:\n",
        "    df = pd.DataFrame()\n",
        "\n",
        "# Retrieve new data\n",
        "response = requests.get(url)\n",
        "new_data = pd.read_json(response.content)['recipes'][0]\n",
        "\n",
        "# Convert the new data into a DataFrame\n",
        "new_data_df = pd.json_normalize(new_data)\n",
        "\n",
        "# Concatenate new data with existing data (if any)\n",
        "df = pd.concat([df, new_data_df], axis=0)\n",
        "\n"
      ]
    },
    {
      "cell_type": "code",
      "source": [
        "df.shape"
      ],
      "metadata": {
        "colab": {
          "base_uri": "https://localhost:8080/"
        },
        "id": "KmPYf8_ZiTu8",
        "outputId": "44bff353-7404-4f97-b4cd-4cebb62bd184"
      },
      "execution_count": 47,
      "outputs": [
        {
          "output_type": "execute_result",
          "data": {
            "text/plain": [
              "(201, 37)"
            ]
          },
          "metadata": {},
          "execution_count": 47
        }
      ]
    },
    {
      "cell_type": "code",
      "source": [
        "# view the head of id\n",
        "column_name = 'title'\n",
        "print(df[[column_name]])"
      ],
      "metadata": {
        "colab": {
          "base_uri": "https://localhost:8080/"
        },
        "id": "J-Ufx6PviJBC",
        "outputId": "561393bc-a43e-4e83-c502-4da8759ad8a7"
      },
      "execution_count": 50,
      "outputs": [
        {
          "output_type": "stream",
          "name": "stdout",
          "text": [
            "                    title\n",
            "0                     NaN\n",
            "1                     NaN\n",
            "2                     NaN\n",
            "3                     NaN\n",
            "4                     NaN\n",
            "..                    ...\n",
            "196                   NaN\n",
            "197                   NaN\n",
            "198                   NaN\n",
            "199                   NaN\n",
            "0    Pumpkin French Toast\n",
            "\n",
            "[201 rows x 1 columns]\n"
          ]
        }
      ]
    },
    {
      "cell_type": "code",
      "source": [
        "# Check for the data type of each column\n",
        "print(df.dtypes)\n",
        "\n"
      ],
      "metadata": {
        "colab": {
          "base_uri": "https://localhost:8080/"
        },
        "id": "BI7LfRd-cUmg",
        "outputId": "b48728ca-fe12-4255-af95-c188baf0dc90"
      },
      "execution_count": 40,
      "outputs": [
        {
          "output_type": "stream",
          "name": "stdout",
          "text": [
            "recipes                      object\n",
            "vegetarian                   object\n",
            "vegan                        object\n",
            "glutenFree                   object\n",
            "dairyFree                    object\n",
            "veryHealthy                  object\n",
            "cheap                        object\n",
            "veryPopular                  object\n",
            "sustainable                  object\n",
            "lowFodmap                    object\n",
            "weightWatcherSmartPoints    float64\n",
            "gaps                         object\n",
            "preparationMinutes          float64\n",
            "cookingMinutes              float64\n",
            "aggregateLikes              float64\n",
            "healthScore                 float64\n",
            "creditsText                  object\n",
            "license                      object\n",
            "sourceName                   object\n",
            "pricePerServing             float64\n",
            "extendedIngredients          object\n",
            "id                          float64\n",
            "title                        object\n",
            "readyInMinutes              float64\n",
            "servings                    float64\n",
            "sourceUrl                    object\n",
            "image                        object\n",
            "imageType                    object\n",
            "summary                      object\n",
            "cuisines                     object\n",
            "dishTypes                    object\n",
            "diets                        object\n",
            "occasions                    object\n",
            "instructions                 object\n",
            "analyzedInstructions         object\n",
            "originalId                   object\n",
            "spoonacularSourceUrl         object\n",
            "dtype: object\n"
          ]
        }
      ]
    },
    {
      "cell_type": "markdown",
      "source": [
        "Look at the first few rows of data to get a general idea.\n"
      ],
      "metadata": {
        "id": "1b9Y7w5Pcwpm"
      }
    },
    {
      "cell_type": "code",
      "source": [
        "# Get a general overview of teh data retrieved\n",
        "\n",
        "df.head\n",
        "\n"
      ],
      "metadata": {
        "colab": {
          "base_uri": "https://localhost:8080/"
        },
        "id": "RH4oo_aEaMIj",
        "outputId": "ec9902ac-da81-4dae-b001-cb7fe49896ae"
      },
      "execution_count": 41,
      "outputs": [
        {
          "output_type": "execute_result",
          "data": {
            "text/plain": [
              "<bound method NDFrame.head of                                                recipes vegetarian  vegan  \\\n",
              "0    {'vegetarian': False, 'vegan': False, 'glutenF...        NaN    NaN   \n",
              "1    {'vegetarian': True, 'vegan': True, 'glutenFre...        NaN    NaN   \n",
              "2    {'vegetarian': True, 'vegan': False, 'glutenFr...        NaN    NaN   \n",
              "3    {'vegetarian': False, 'vegan': False, 'glutenF...        NaN    NaN   \n",
              "4    {'vegetarian': False, 'vegan': False, 'glutenF...        NaN    NaN   \n",
              "..                                                 ...        ...    ...   \n",
              "196  {'vegetarian': True, 'vegan': True, 'glutenFre...        NaN    NaN   \n",
              "197  {'vegetarian': False, 'vegan': False, 'glutenF...        NaN    NaN   \n",
              "198  {'vegetarian': False, 'vegan': False, 'glutenF...        NaN    NaN   \n",
              "199  {'vegetarian': False, 'vegan': False, 'glutenF...        NaN    NaN   \n",
              "0                                                  NaN      False  False   \n",
              "\n",
              "    glutenFree dairyFree veryHealthy  cheap veryPopular sustainable lowFodmap  \\\n",
              "0          NaN       NaN         NaN    NaN         NaN         NaN       NaN   \n",
              "1          NaN       NaN         NaN    NaN         NaN         NaN       NaN   \n",
              "2          NaN       NaN         NaN    NaN         NaN         NaN       NaN   \n",
              "3          NaN       NaN         NaN    NaN         NaN         NaN       NaN   \n",
              "4          NaN       NaN         NaN    NaN         NaN         NaN       NaN   \n",
              "..         ...       ...         ...    ...         ...         ...       ...   \n",
              "196        NaN       NaN         NaN    NaN         NaN         NaN       NaN   \n",
              "197        NaN       NaN         NaN    NaN         NaN         NaN       NaN   \n",
              "198        NaN       NaN         NaN    NaN         NaN         NaN       NaN   \n",
              "199        NaN       NaN         NaN    NaN         NaN         NaN       NaN   \n",
              "0        False     False       False  False       False       False     False   \n",
              "\n",
              "     ...  imageType                                            summary  \\\n",
              "0    ...        NaN                                                NaN   \n",
              "1    ...        NaN                                                NaN   \n",
              "2    ...        NaN                                                NaN   \n",
              "3    ...        NaN                                                NaN   \n",
              "4    ...        NaN                                                NaN   \n",
              "..   ...        ...                                                ...   \n",
              "196  ...        NaN                                                NaN   \n",
              "197  ...        NaN                                                NaN   \n",
              "198  ...        NaN                                                NaN   \n",
              "199  ...        NaN                                                NaN   \n",
              "0    ...        jpg  Buttery Pull Apart Monkey Bread might be just ...   \n",
              "\n",
              "     cuisines  dishTypes  diets  occasions  \\\n",
              "0         NaN        NaN    NaN        NaN   \n",
              "1         NaN        NaN    NaN        NaN   \n",
              "2         NaN        NaN    NaN        NaN   \n",
              "3         NaN        NaN    NaN        NaN   \n",
              "4         NaN        NaN    NaN        NaN   \n",
              "..        ...        ...    ...        ...   \n",
              "196       NaN        NaN    NaN        NaN   \n",
              "197       NaN        NaN    NaN        NaN   \n",
              "198       NaN        NaN    NaN        NaN   \n",
              "199       NaN        NaN    NaN        NaN   \n",
              "0          []  [dessert]     []         []   \n",
              "\n",
              "                                          instructions  \\\n",
              "0                                                  NaN   \n",
              "1                                                  NaN   \n",
              "2                                                  NaN   \n",
              "3                                                  NaN   \n",
              "4                                                  NaN   \n",
              "..                                                 ...   \n",
              "196                                                NaN   \n",
              "197                                                NaN   \n",
              "198                                                NaN   \n",
              "199                                                NaN   \n",
              "0    Combine scalded milk, mashed potatoes, shorten...   \n",
              "\n",
              "                                  analyzedInstructions originalId  \\\n",
              "0                                                  NaN        NaN   \n",
              "1                                                  NaN        NaN   \n",
              "2                                                  NaN        NaN   \n",
              "3                                                  NaN        NaN   \n",
              "4                                                  NaN        NaN   \n",
              "..                                                 ...        ...   \n",
              "196                                                NaN        NaN   \n",
              "197                                                NaN        NaN   \n",
              "198                                                NaN        NaN   \n",
              "199                                                NaN        NaN   \n",
              "0    [{'name': '', 'steps': [{'number': 1, 'step': ...       None   \n",
              "\n",
              "                                  spoonacularSourceUrl  \n",
              "0                                                  NaN  \n",
              "1                                                  NaN  \n",
              "2                                                  NaN  \n",
              "3                                                  NaN  \n",
              "4                                                  NaN  \n",
              "..                                                 ...  \n",
              "196                                                NaN  \n",
              "197                                                NaN  \n",
              "198                                                NaN  \n",
              "199                                                NaN  \n",
              "0    https://spoonacular.com/buttery-pull-apart-mon...  \n",
              "\n",
              "[201 rows x 37 columns]>"
            ]
          },
          "metadata": {},
          "execution_count": 41
        }
      ]
    },
    {
      "cell_type": "code",
      "source": [
        "print(\"Size before:  \" + str(df.shape))\n",
        "\n",
        "# remove duplicates from the DataFrame based on the id column\n",
        "df.drop_duplicates(subset=['id'], inplace=True)\n",
        "\n",
        "\n",
        "print(\"Size after drop duplicates:  \" + str(df.shape))\n"
      ],
      "metadata": {
        "colab": {
          "base_uri": "https://localhost:8080/"
        },
        "id": "GymrNEZfeWEQ",
        "outputId": "c35bd6af-d75b-4144-80ae-2f8a2284f67b"
      },
      "execution_count": 43,
      "outputs": [
        {
          "output_type": "stream",
          "name": "stdout",
          "text": [
            "Size before:  (201, 37)\n",
            "Size after drop duplicates:  (2, 37)\n"
          ]
        }
      ]
    },
    {
      "cell_type": "markdown",
      "source": [
        "Get the column names to see what is in the data."
      ],
      "metadata": {
        "id": "GBRu_2FEc2j0"
      }
    },
    {
      "cell_type": "code",
      "source": [
        "# Get the column names\n",
        "df.columns"
      ],
      "metadata": {
        "colab": {
          "base_uri": "https://localhost:8080/"
        },
        "id": "N6b-nN1_bnXu",
        "outputId": "fedf0c22-dd26-4c30-fadc-834eb78193ba"
      },
      "execution_count": 8,
      "outputs": [
        {
          "output_type": "execute_result",
          "data": {
            "text/plain": [
              "Index(['recipes', 'vegetarian', 'vegan', 'glutenFree', 'dairyFree',\n",
              "       'veryHealthy', 'cheap', 'veryPopular', 'sustainable', 'lowFodmap',\n",
              "       'weightWatcherSmartPoints', 'gaps', 'preparationMinutes',\n",
              "       'cookingMinutes', 'aggregateLikes', 'healthScore', 'creditsText',\n",
              "       'license', 'sourceName', 'pricePerServing', 'extendedIngredients', 'id',\n",
              "       'title', 'readyInMinutes', 'servings', 'sourceUrl', 'image',\n",
              "       'imageType', 'summary', 'cuisines', 'dishTypes', 'diets', 'occasions',\n",
              "       'instructions', 'analyzedInstructions', 'originalId',\n",
              "       'spoonacularSourceUrl'],\n",
              "      dtype='object')"
            ]
          },
          "metadata": {},
          "execution_count": 8
        }
      ]
    },
    {
      "cell_type": "markdown",
      "source": [
        "Take a closer look at what some of these columns are:\n"
      ],
      "metadata": {
        "id": "qZCwK9Uodk4P"
      }
    },
    {
      "cell_type": "code",
      "source": [
        "# view the head of gaps\n",
        "column_name = 'gaps'\n",
        "print(df[[column_name]].head())"
      ],
      "metadata": {
        "colab": {
          "base_uri": "https://localhost:8080/"
        },
        "id": "UYMqIhjvdoSI",
        "outputId": "d06ea597-a4dc-484f-b293-f0f254945257"
      },
      "execution_count": 15,
      "outputs": [
        {
          "output_type": "stream",
          "name": "stdout",
          "text": [
            "  gaps\n",
            "0  NaN\n",
            "1  NaN\n",
            "2  NaN\n",
            "3  NaN\n",
            "4  NaN\n"
          ]
        }
      ]
    },
    {
      "cell_type": "code",
      "source": [
        "# view the head of extendedIngredients\n",
        "column_name = 'extendedIngredients'\n",
        "print(df[[column_name]].head())"
      ],
      "metadata": {
        "colab": {
          "base_uri": "https://localhost:8080/"
        },
        "id": "tRAvjRbgdyZM",
        "outputId": "db10f977-db3c-4b2c-d86d-04a9098dcc31"
      },
      "execution_count": 18,
      "outputs": [
        {
          "output_type": "stream",
          "name": "stdout",
          "text": [
            "  extendedIngredients\n",
            "0                 NaN\n",
            "1                 NaN\n",
            "2                 NaN\n",
            "3                 NaN\n",
            "4                 NaN\n"
          ]
        }
      ]
    },
    {
      "cell_type": "code",
      "source": [
        "# view the head of analyzedInstructions\n",
        "column_name = 'analyzedInstructions'\n",
        "print(df[[column_name]].head())"
      ],
      "metadata": {
        "colab": {
          "base_uri": "https://localhost:8080/"
        },
        "id": "_5zEb8LGeDAd",
        "outputId": "46540546-0496-4d5e-a374-bed5b5f582da"
      },
      "execution_count": 19,
      "outputs": [
        {
          "output_type": "stream",
          "name": "stdout",
          "text": [
            "  analyzedInstructions\n",
            "0                  NaN\n",
            "1                  NaN\n",
            "2                  NaN\n",
            "3                  NaN\n",
            "4                  NaN\n"
          ]
        }
      ]
    },
    {
      "cell_type": "markdown",
      "source": [
        "We won't need the following columns for this project:  pricePerServing"
      ],
      "metadata": {
        "id": "76pqddxfc62o"
      }
    },
    {
      "cell_type": "code",
      "source": [
        "# Check for missing values\n",
        "print(df.isnull().sum())\n",
        "\n"
      ],
      "metadata": {
        "colab": {
          "base_uri": "https://localhost:8080/"
        },
        "id": "fAPGPRclca6F",
        "outputId": "d21f9475-bf60-4ae3-96a0-446f2bacbf84"
      },
      "execution_count": 11,
      "outputs": [
        {
          "output_type": "stream",
          "name": "stdout",
          "text": [
            "recipes                       1\n",
            "vegetarian                  200\n",
            "vegan                       200\n",
            "glutenFree                  200\n",
            "dairyFree                   200\n",
            "veryHealthy                 200\n",
            "cheap                       200\n",
            "veryPopular                 200\n",
            "sustainable                 200\n",
            "lowFodmap                   200\n",
            "weightWatcherSmartPoints    200\n",
            "gaps                        200\n",
            "preparationMinutes          200\n",
            "cookingMinutes              200\n",
            "aggregateLikes              200\n",
            "healthScore                 200\n",
            "creditsText                 200\n",
            "license                     200\n",
            "sourceName                  200\n",
            "pricePerServing             200\n",
            "extendedIngredients         200\n",
            "id                          200\n",
            "title                       200\n",
            "readyInMinutes              200\n",
            "servings                    200\n",
            "sourceUrl                   200\n",
            "image                       200\n",
            "imageType                   200\n",
            "summary                     200\n",
            "cuisines                    200\n",
            "dishTypes                   200\n",
            "diets                       200\n",
            "occasions                   200\n",
            "instructions                200\n",
            "analyzedInstructions        200\n",
            "originalId                  201\n",
            "spoonacularSourceUrl        200\n",
            "dtype: int64\n"
          ]
        }
      ]
    },
    {
      "cell_type": "code",
      "source": [
        "# Check for outliers and data distribution in each column\n",
        "print(df.describe())"
      ],
      "metadata": {
        "colab": {
          "base_uri": "https://localhost:8080/"
        },
        "id": "ONIcKEdKcfLk",
        "outputId": "c56b5fad-3764-45b0-f55f-5ac7bec428e3"
      },
      "execution_count": 12,
      "outputs": [
        {
          "output_type": "stream",
          "name": "stdout",
          "text": [
            "       weightWatcherSmartPoints  preparationMinutes  cookingMinutes  \\\n",
            "count                       1.0                 1.0             1.0   \n",
            "mean                        8.0                -1.0            -1.0   \n",
            "std                         NaN                 NaN             NaN   \n",
            "min                         8.0                -1.0            -1.0   \n",
            "25%                         8.0                -1.0            -1.0   \n",
            "50%                         8.0                -1.0            -1.0   \n",
            "75%                         8.0                -1.0            -1.0   \n",
            "max                         8.0                -1.0            -1.0   \n",
            "\n",
            "       aggregateLikes  healthScore  pricePerServing        id  readyInMinutes  \\\n",
            "count             1.0          1.0             1.00       1.0             1.0   \n",
            "mean             25.0         15.0           141.51  640238.0            45.0   \n",
            "std               NaN          NaN              NaN       NaN             NaN   \n",
            "min              25.0         15.0           141.51  640238.0            45.0   \n",
            "25%              25.0         15.0           141.51  640238.0            45.0   \n",
            "50%              25.0         15.0           141.51  640238.0            45.0   \n",
            "75%              25.0         15.0           141.51  640238.0            45.0   \n",
            "max              25.0         15.0           141.51  640238.0            45.0   \n",
            "\n",
            "       servings  \n",
            "count       1.0  \n",
            "mean        4.0  \n",
            "std         NaN  \n",
            "min         4.0  \n",
            "25%         4.0  \n",
            "50%         4.0  \n",
            "75%         4.0  \n",
            "max         4.0  \n"
          ]
        }
      ]
    },
    {
      "cell_type": "code",
      "source": [
        "\n",
        "\n",
        "# remove any rows with missing values\n",
        "df.dropna(inplace=True)\n",
        "\n",
        "# remove any unnecessary columns\n",
        "df.drop(['column_name_1', 'column_name_2'], axis=1, inplace=True)\n",
        "\n",
        "# remove any outliers\n",
        "df = df[(df['column_name'] > lower_bound) & (df['column_name'] < upper_bound)]\n",
        "\n",
        "# convert the data types of any columns as needed\n",
        "df['column_name'] = pd.to_numeric(df['column_name'], errors='coerce')\n",
        "\n",
        "# normalize the data as needed\n",
        "df['column_name'] = (df['column_name'] - df['column_name'].mean()) / df['column_name'].std()\n"
      ],
      "metadata": {
        "id": "YbNsoXS9aqSI"
      },
      "execution_count": null,
      "outputs": []
    },
    {
      "cell_type": "code",
      "source": [
        "# Save updated dataframe to file\n",
        "df.to_csv('data.csv', index=False)"
      ],
      "metadata": {
        "id": "ixkypqfjawwm"
      },
      "execution_count": 51,
      "outputs": []
    }
  ]
}